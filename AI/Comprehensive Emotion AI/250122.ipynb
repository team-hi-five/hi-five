{
 "cells": [
  {
   "cell_type": "code",
   "id": "initial_id",
   "metadata": {
    "collapsed": true,
    "ExecuteTime": {
     "end_time": "2025-01-22T01:51:54.865327Z",
     "start_time": "2025-01-22T01:51:50.437583Z"
    }
   },
   "source": [
    "import os\n",
    "import numpy as np\n",
    "import tensorflow as tf\n",
    "tf.get_logger().setLevel('ERROR')\n",
    "from tensorflow.keras.preprocessing.image import ImageDataGenerator\n",
    "from tensorflow.keras.models import Sequential\n",
    "from tensorflow.keras.layers import Input, Conv2D, MaxPooling2D, Flatten, Dense, Dropout, BatchNormalization\n",
    "from tensorflow.keras.optimizers import Adam\n",
    "import cv2\n"
   ],
   "outputs": [],
   "execution_count": 1
  },
  {
   "metadata": {
    "ExecuteTime": {
     "end_time": "2025-01-22T01:55:14.238139Z",
     "start_time": "2025-01-22T01:55:14.231654Z"
    }
   },
   "cell_type": "code",
   "source": [
    "# 하이퍼파라미터\n",
    "batch_size = 64\n",
    "img_size = 48  # FER-2013이 보통 48x48\n",
    "epochs = 30\n",
    "\n",
    "train_dir = './data/train'\n",
    "test_dir = './data/test'"
   ],
   "id": "dfd888cf84984fb",
   "outputs": [],
   "execution_count": 2
  },
  {
   "metadata": {
    "ExecuteTime": {
     "end_time": "2025-01-22T01:55:33.359460Z",
     "start_time": "2025-01-22T01:55:32.953896Z"
    }
   },
   "cell_type": "code",
   "source": [
    "# 기존에 쓰던 증강 옵션 + 추가 가능한 옵션\n",
    "train_datagen = ImageDataGenerator(\n",
    "    rescale=1./255,\n",
    "    rotation_range=20,\n",
    "    width_shift_range=0.2,\n",
    "    height_shift_range=0.2,\n",
    "    shear_range=0.2,\n",
    "    zoom_range=0.2,\n",
    "    horizontal_flip=True,\n",
    "    fill_mode='nearest',\n",
    "    brightness_range=[0.8, 1.2],  # 밝기 범위 조절\n",
    "    # channel_shift_range=20.0,   # 채널 값 변환 (흑백일 경우 무의미할 수도)\n",
    ")\n",
    "\n",
    "# 테스트셋은 과도한 증강 대신 rescale만\n",
    "test_datagen = ImageDataGenerator(rescale=1./255)\n",
    "\n",
    "train_generator = train_datagen.flow_from_directory(\n",
    "    train_dir,\n",
    "    target_size=(img_size, img_size),\n",
    "    color_mode='grayscale',\n",
    "    batch_size=batch_size,\n",
    "    class_mode='categorical',\n",
    "    shuffle=True\n",
    ")\n",
    "\n",
    "test_generator = test_datagen.flow_from_directory(\n",
    "    test_dir,\n",
    "    target_size=(img_size, img_size),\n",
    "    color_mode='grayscale',\n",
    "    batch_size=batch_size,\n",
    "    class_mode='categorical',\n",
    "    shuffle=False\n",
    ")"
   ],
   "id": "704e9fb4cc6dd5fa",
   "outputs": [
    {
     "name": "stdout",
     "output_type": "stream",
     "text": [
      "Found 23308 images belonging to 5 classes.\n",
      "Found 5834 images belonging to 5 classes.\n"
     ]
    }
   ],
   "execution_count": 3
  },
  {
   "metadata": {
    "ExecuteTime": {
     "end_time": "2025-01-22T01:55:55.689784Z",
     "start_time": "2025-01-22T01:55:55.559886Z"
    }
   },
   "cell_type": "code",
   "source": [
    "num_classes = 5  # angry, fear, happy, sad, surprise\n",
    "\n",
    "model = Sequential([\n",
    "    Input(shape=(img_size, img_size, 1)),\n",
    "\n",
    "    Conv2D(32, (3,3), activation='relu', padding='same'),\n",
    "    BatchNormalization(),\n",
    "    MaxPooling2D(pool_size=(2,2)),  # 24 x 24\n",
    "\n",
    "    Conv2D(64, (3,3), activation='relu', padding='same'),\n",
    "    BatchNormalization(),\n",
    "    MaxPooling2D(pool_size=(2,2)),  # 12 x 12\n",
    "\n",
    "    Conv2D(128, (3,3), activation='relu', padding='same'),\n",
    "    BatchNormalization(),\n",
    "    MaxPooling2D(pool_size=(2,2)),  # 6 x 6\n",
    "\n",
    "    Conv2D(256, (3,3), activation='relu', padding='same'),\n",
    "    BatchNormalization(),\n",
    "    MaxPooling2D(pool_size=(2,2)),  # 3 x 3\n",
    "\n",
    "    Flatten(),\n",
    "    Dense(256, activation='relu'),\n",
    "    BatchNormalization(),\n",
    "    Dropout(0.5),\n",
    "    Dense(128, activation='relu'),\n",
    "    BatchNormalization(),\n",
    "    Dropout(0.3),\n",
    "    Dense(num_classes, activation='softmax')\n",
    "])\n",
    "\n",
    "model.compile(\n",
    "    loss='categorical_crossentropy',\n",
    "    optimizer=Adam(learning_rate=0.0001),\n",
    "    metrics=['accuracy']\n",
    ")\n",
    "\n",
    "model.summary()\n"
   ],
   "id": "32ee87be306e87a3",
   "outputs": [
    {
     "data": {
      "text/plain": [
       "\u001B[1mModel: \"sequential\"\u001B[0m\n"
      ],
      "text/html": [
       "<pre style=\"white-space:pre;overflow-x:auto;line-height:normal;font-family:Menlo,'DejaVu Sans Mono',consolas,'Courier New',monospace\"><span style=\"font-weight: bold\">Model: \"sequential\"</span>\n",
       "</pre>\n"
      ]
     },
     "metadata": {},
     "output_type": "display_data"
    },
    {
     "data": {
      "text/plain": [
       "┏━━━━━━━━━━━━━━━━━━━━━━━━━━━━━━━━━┳━━━━━━━━━━━━━━━━━━━━━━━━┳━━━━━━━━━━━━━━━┓\n",
       "┃\u001B[1m \u001B[0m\u001B[1mLayer (type)                   \u001B[0m\u001B[1m \u001B[0m┃\u001B[1m \u001B[0m\u001B[1mOutput Shape          \u001B[0m\u001B[1m \u001B[0m┃\u001B[1m \u001B[0m\u001B[1m      Param #\u001B[0m\u001B[1m \u001B[0m┃\n",
       "┡━━━━━━━━━━━━━━━━━━━━━━━━━━━━━━━━━╇━━━━━━━━━━━━━━━━━━━━━━━━╇━━━━━━━━━━━━━━━┩\n",
       "│ conv2d (\u001B[38;5;33mConv2D\u001B[0m)                 │ (\u001B[38;5;45mNone\u001B[0m, \u001B[38;5;34m48\u001B[0m, \u001B[38;5;34m48\u001B[0m, \u001B[38;5;34m32\u001B[0m)     │           \u001B[38;5;34m320\u001B[0m │\n",
       "├─────────────────────────────────┼────────────────────────┼───────────────┤\n",
       "│ batch_normalization             │ (\u001B[38;5;45mNone\u001B[0m, \u001B[38;5;34m48\u001B[0m, \u001B[38;5;34m48\u001B[0m, \u001B[38;5;34m32\u001B[0m)     │           \u001B[38;5;34m128\u001B[0m │\n",
       "│ (\u001B[38;5;33mBatchNormalization\u001B[0m)            │                        │               │\n",
       "├─────────────────────────────────┼────────────────────────┼───────────────┤\n",
       "│ max_pooling2d (\u001B[38;5;33mMaxPooling2D\u001B[0m)    │ (\u001B[38;5;45mNone\u001B[0m, \u001B[38;5;34m24\u001B[0m, \u001B[38;5;34m24\u001B[0m, \u001B[38;5;34m32\u001B[0m)     │             \u001B[38;5;34m0\u001B[0m │\n",
       "├─────────────────────────────────┼────────────────────────┼───────────────┤\n",
       "│ conv2d_1 (\u001B[38;5;33mConv2D\u001B[0m)               │ (\u001B[38;5;45mNone\u001B[0m, \u001B[38;5;34m24\u001B[0m, \u001B[38;5;34m24\u001B[0m, \u001B[38;5;34m64\u001B[0m)     │        \u001B[38;5;34m18,496\u001B[0m │\n",
       "├─────────────────────────────────┼────────────────────────┼───────────────┤\n",
       "│ batch_normalization_1           │ (\u001B[38;5;45mNone\u001B[0m, \u001B[38;5;34m24\u001B[0m, \u001B[38;5;34m24\u001B[0m, \u001B[38;5;34m64\u001B[0m)     │           \u001B[38;5;34m256\u001B[0m │\n",
       "│ (\u001B[38;5;33mBatchNormalization\u001B[0m)            │                        │               │\n",
       "├─────────────────────────────────┼────────────────────────┼───────────────┤\n",
       "│ max_pooling2d_1 (\u001B[38;5;33mMaxPooling2D\u001B[0m)  │ (\u001B[38;5;45mNone\u001B[0m, \u001B[38;5;34m12\u001B[0m, \u001B[38;5;34m12\u001B[0m, \u001B[38;5;34m64\u001B[0m)     │             \u001B[38;5;34m0\u001B[0m │\n",
       "├─────────────────────────────────┼────────────────────────┼───────────────┤\n",
       "│ conv2d_2 (\u001B[38;5;33mConv2D\u001B[0m)               │ (\u001B[38;5;45mNone\u001B[0m, \u001B[38;5;34m12\u001B[0m, \u001B[38;5;34m12\u001B[0m, \u001B[38;5;34m128\u001B[0m)    │        \u001B[38;5;34m73,856\u001B[0m │\n",
       "├─────────────────────────────────┼────────────────────────┼───────────────┤\n",
       "│ batch_normalization_2           │ (\u001B[38;5;45mNone\u001B[0m, \u001B[38;5;34m12\u001B[0m, \u001B[38;5;34m12\u001B[0m, \u001B[38;5;34m128\u001B[0m)    │           \u001B[38;5;34m512\u001B[0m │\n",
       "│ (\u001B[38;5;33mBatchNormalization\u001B[0m)            │                        │               │\n",
       "├─────────────────────────────────┼────────────────────────┼───────────────┤\n",
       "│ max_pooling2d_2 (\u001B[38;5;33mMaxPooling2D\u001B[0m)  │ (\u001B[38;5;45mNone\u001B[0m, \u001B[38;5;34m6\u001B[0m, \u001B[38;5;34m6\u001B[0m, \u001B[38;5;34m128\u001B[0m)      │             \u001B[38;5;34m0\u001B[0m │\n",
       "├─────────────────────────────────┼────────────────────────┼───────────────┤\n",
       "│ conv2d_3 (\u001B[38;5;33mConv2D\u001B[0m)               │ (\u001B[38;5;45mNone\u001B[0m, \u001B[38;5;34m6\u001B[0m, \u001B[38;5;34m6\u001B[0m, \u001B[38;5;34m256\u001B[0m)      │       \u001B[38;5;34m295,168\u001B[0m │\n",
       "├─────────────────────────────────┼────────────────────────┼───────────────┤\n",
       "│ batch_normalization_3           │ (\u001B[38;5;45mNone\u001B[0m, \u001B[38;5;34m6\u001B[0m, \u001B[38;5;34m6\u001B[0m, \u001B[38;5;34m256\u001B[0m)      │         \u001B[38;5;34m1,024\u001B[0m │\n",
       "│ (\u001B[38;5;33mBatchNormalization\u001B[0m)            │                        │               │\n",
       "├─────────────────────────────────┼────────────────────────┼───────────────┤\n",
       "│ max_pooling2d_3 (\u001B[38;5;33mMaxPooling2D\u001B[0m)  │ (\u001B[38;5;45mNone\u001B[0m, \u001B[38;5;34m3\u001B[0m, \u001B[38;5;34m3\u001B[0m, \u001B[38;5;34m256\u001B[0m)      │             \u001B[38;5;34m0\u001B[0m │\n",
       "├─────────────────────────────────┼────────────────────────┼───────────────┤\n",
       "│ flatten (\u001B[38;5;33mFlatten\u001B[0m)               │ (\u001B[38;5;45mNone\u001B[0m, \u001B[38;5;34m2304\u001B[0m)           │             \u001B[38;5;34m0\u001B[0m │\n",
       "├─────────────────────────────────┼────────────────────────┼───────────────┤\n",
       "│ dense (\u001B[38;5;33mDense\u001B[0m)                   │ (\u001B[38;5;45mNone\u001B[0m, \u001B[38;5;34m256\u001B[0m)            │       \u001B[38;5;34m590,080\u001B[0m │\n",
       "├─────────────────────────────────┼────────────────────────┼───────────────┤\n",
       "│ batch_normalization_4           │ (\u001B[38;5;45mNone\u001B[0m, \u001B[38;5;34m256\u001B[0m)            │         \u001B[38;5;34m1,024\u001B[0m │\n",
       "│ (\u001B[38;5;33mBatchNormalization\u001B[0m)            │                        │               │\n",
       "├─────────────────────────────────┼────────────────────────┼───────────────┤\n",
       "│ dropout (\u001B[38;5;33mDropout\u001B[0m)               │ (\u001B[38;5;45mNone\u001B[0m, \u001B[38;5;34m256\u001B[0m)            │             \u001B[38;5;34m0\u001B[0m │\n",
       "├─────────────────────────────────┼────────────────────────┼───────────────┤\n",
       "│ dense_1 (\u001B[38;5;33mDense\u001B[0m)                 │ (\u001B[38;5;45mNone\u001B[0m, \u001B[38;5;34m128\u001B[0m)            │        \u001B[38;5;34m32,896\u001B[0m │\n",
       "├─────────────────────────────────┼────────────────────────┼───────────────┤\n",
       "│ batch_normalization_5           │ (\u001B[38;5;45mNone\u001B[0m, \u001B[38;5;34m128\u001B[0m)            │           \u001B[38;5;34m512\u001B[0m │\n",
       "│ (\u001B[38;5;33mBatchNormalization\u001B[0m)            │                        │               │\n",
       "├─────────────────────────────────┼────────────────────────┼───────────────┤\n",
       "│ dropout_1 (\u001B[38;5;33mDropout\u001B[0m)             │ (\u001B[38;5;45mNone\u001B[0m, \u001B[38;5;34m128\u001B[0m)            │             \u001B[38;5;34m0\u001B[0m │\n",
       "├─────────────────────────────────┼────────────────────────┼───────────────┤\n",
       "│ dense_2 (\u001B[38;5;33mDense\u001B[0m)                 │ (\u001B[38;5;45mNone\u001B[0m, \u001B[38;5;34m5\u001B[0m)              │           \u001B[38;5;34m645\u001B[0m │\n",
       "└─────────────────────────────────┴────────────────────────┴───────────────┘\n"
      ],
      "text/html": [
       "<pre style=\"white-space:pre;overflow-x:auto;line-height:normal;font-family:Menlo,'DejaVu Sans Mono',consolas,'Courier New',monospace\">┏━━━━━━━━━━━━━━━━━━━━━━━━━━━━━━━━━┳━━━━━━━━━━━━━━━━━━━━━━━━┳━━━━━━━━━━━━━━━┓\n",
       "┃<span style=\"font-weight: bold\"> Layer (type)                    </span>┃<span style=\"font-weight: bold\"> Output Shape           </span>┃<span style=\"font-weight: bold\">       Param # </span>┃\n",
       "┡━━━━━━━━━━━━━━━━━━━━━━━━━━━━━━━━━╇━━━━━━━━━━━━━━━━━━━━━━━━╇━━━━━━━━━━━━━━━┩\n",
       "│ conv2d (<span style=\"color: #0087ff; text-decoration-color: #0087ff\">Conv2D</span>)                 │ (<span style=\"color: #00d7ff; text-decoration-color: #00d7ff\">None</span>, <span style=\"color: #00af00; text-decoration-color: #00af00\">48</span>, <span style=\"color: #00af00; text-decoration-color: #00af00\">48</span>, <span style=\"color: #00af00; text-decoration-color: #00af00\">32</span>)     │           <span style=\"color: #00af00; text-decoration-color: #00af00\">320</span> │\n",
       "├─────────────────────────────────┼────────────────────────┼───────────────┤\n",
       "│ batch_normalization             │ (<span style=\"color: #00d7ff; text-decoration-color: #00d7ff\">None</span>, <span style=\"color: #00af00; text-decoration-color: #00af00\">48</span>, <span style=\"color: #00af00; text-decoration-color: #00af00\">48</span>, <span style=\"color: #00af00; text-decoration-color: #00af00\">32</span>)     │           <span style=\"color: #00af00; text-decoration-color: #00af00\">128</span> │\n",
       "│ (<span style=\"color: #0087ff; text-decoration-color: #0087ff\">BatchNormalization</span>)            │                        │               │\n",
       "├─────────────────────────────────┼────────────────────────┼───────────────┤\n",
       "│ max_pooling2d (<span style=\"color: #0087ff; text-decoration-color: #0087ff\">MaxPooling2D</span>)    │ (<span style=\"color: #00d7ff; text-decoration-color: #00d7ff\">None</span>, <span style=\"color: #00af00; text-decoration-color: #00af00\">24</span>, <span style=\"color: #00af00; text-decoration-color: #00af00\">24</span>, <span style=\"color: #00af00; text-decoration-color: #00af00\">32</span>)     │             <span style=\"color: #00af00; text-decoration-color: #00af00\">0</span> │\n",
       "├─────────────────────────────────┼────────────────────────┼───────────────┤\n",
       "│ conv2d_1 (<span style=\"color: #0087ff; text-decoration-color: #0087ff\">Conv2D</span>)               │ (<span style=\"color: #00d7ff; text-decoration-color: #00d7ff\">None</span>, <span style=\"color: #00af00; text-decoration-color: #00af00\">24</span>, <span style=\"color: #00af00; text-decoration-color: #00af00\">24</span>, <span style=\"color: #00af00; text-decoration-color: #00af00\">64</span>)     │        <span style=\"color: #00af00; text-decoration-color: #00af00\">18,496</span> │\n",
       "├─────────────────────────────────┼────────────────────────┼───────────────┤\n",
       "│ batch_normalization_1           │ (<span style=\"color: #00d7ff; text-decoration-color: #00d7ff\">None</span>, <span style=\"color: #00af00; text-decoration-color: #00af00\">24</span>, <span style=\"color: #00af00; text-decoration-color: #00af00\">24</span>, <span style=\"color: #00af00; text-decoration-color: #00af00\">64</span>)     │           <span style=\"color: #00af00; text-decoration-color: #00af00\">256</span> │\n",
       "│ (<span style=\"color: #0087ff; text-decoration-color: #0087ff\">BatchNormalization</span>)            │                        │               │\n",
       "├─────────────────────────────────┼────────────────────────┼───────────────┤\n",
       "│ max_pooling2d_1 (<span style=\"color: #0087ff; text-decoration-color: #0087ff\">MaxPooling2D</span>)  │ (<span style=\"color: #00d7ff; text-decoration-color: #00d7ff\">None</span>, <span style=\"color: #00af00; text-decoration-color: #00af00\">12</span>, <span style=\"color: #00af00; text-decoration-color: #00af00\">12</span>, <span style=\"color: #00af00; text-decoration-color: #00af00\">64</span>)     │             <span style=\"color: #00af00; text-decoration-color: #00af00\">0</span> │\n",
       "├─────────────────────────────────┼────────────────────────┼───────────────┤\n",
       "│ conv2d_2 (<span style=\"color: #0087ff; text-decoration-color: #0087ff\">Conv2D</span>)               │ (<span style=\"color: #00d7ff; text-decoration-color: #00d7ff\">None</span>, <span style=\"color: #00af00; text-decoration-color: #00af00\">12</span>, <span style=\"color: #00af00; text-decoration-color: #00af00\">12</span>, <span style=\"color: #00af00; text-decoration-color: #00af00\">128</span>)    │        <span style=\"color: #00af00; text-decoration-color: #00af00\">73,856</span> │\n",
       "├─────────────────────────────────┼────────────────────────┼───────────────┤\n",
       "│ batch_normalization_2           │ (<span style=\"color: #00d7ff; text-decoration-color: #00d7ff\">None</span>, <span style=\"color: #00af00; text-decoration-color: #00af00\">12</span>, <span style=\"color: #00af00; text-decoration-color: #00af00\">12</span>, <span style=\"color: #00af00; text-decoration-color: #00af00\">128</span>)    │           <span style=\"color: #00af00; text-decoration-color: #00af00\">512</span> │\n",
       "│ (<span style=\"color: #0087ff; text-decoration-color: #0087ff\">BatchNormalization</span>)            │                        │               │\n",
       "├─────────────────────────────────┼────────────────────────┼───────────────┤\n",
       "│ max_pooling2d_2 (<span style=\"color: #0087ff; text-decoration-color: #0087ff\">MaxPooling2D</span>)  │ (<span style=\"color: #00d7ff; text-decoration-color: #00d7ff\">None</span>, <span style=\"color: #00af00; text-decoration-color: #00af00\">6</span>, <span style=\"color: #00af00; text-decoration-color: #00af00\">6</span>, <span style=\"color: #00af00; text-decoration-color: #00af00\">128</span>)      │             <span style=\"color: #00af00; text-decoration-color: #00af00\">0</span> │\n",
       "├─────────────────────────────────┼────────────────────────┼───────────────┤\n",
       "│ conv2d_3 (<span style=\"color: #0087ff; text-decoration-color: #0087ff\">Conv2D</span>)               │ (<span style=\"color: #00d7ff; text-decoration-color: #00d7ff\">None</span>, <span style=\"color: #00af00; text-decoration-color: #00af00\">6</span>, <span style=\"color: #00af00; text-decoration-color: #00af00\">6</span>, <span style=\"color: #00af00; text-decoration-color: #00af00\">256</span>)      │       <span style=\"color: #00af00; text-decoration-color: #00af00\">295,168</span> │\n",
       "├─────────────────────────────────┼────────────────────────┼───────────────┤\n",
       "│ batch_normalization_3           │ (<span style=\"color: #00d7ff; text-decoration-color: #00d7ff\">None</span>, <span style=\"color: #00af00; text-decoration-color: #00af00\">6</span>, <span style=\"color: #00af00; text-decoration-color: #00af00\">6</span>, <span style=\"color: #00af00; text-decoration-color: #00af00\">256</span>)      │         <span style=\"color: #00af00; text-decoration-color: #00af00\">1,024</span> │\n",
       "│ (<span style=\"color: #0087ff; text-decoration-color: #0087ff\">BatchNormalization</span>)            │                        │               │\n",
       "├─────────────────────────────────┼────────────────────────┼───────────────┤\n",
       "│ max_pooling2d_3 (<span style=\"color: #0087ff; text-decoration-color: #0087ff\">MaxPooling2D</span>)  │ (<span style=\"color: #00d7ff; text-decoration-color: #00d7ff\">None</span>, <span style=\"color: #00af00; text-decoration-color: #00af00\">3</span>, <span style=\"color: #00af00; text-decoration-color: #00af00\">3</span>, <span style=\"color: #00af00; text-decoration-color: #00af00\">256</span>)      │             <span style=\"color: #00af00; text-decoration-color: #00af00\">0</span> │\n",
       "├─────────────────────────────────┼────────────────────────┼───────────────┤\n",
       "│ flatten (<span style=\"color: #0087ff; text-decoration-color: #0087ff\">Flatten</span>)               │ (<span style=\"color: #00d7ff; text-decoration-color: #00d7ff\">None</span>, <span style=\"color: #00af00; text-decoration-color: #00af00\">2304</span>)           │             <span style=\"color: #00af00; text-decoration-color: #00af00\">0</span> │\n",
       "├─────────────────────────────────┼────────────────────────┼───────────────┤\n",
       "│ dense (<span style=\"color: #0087ff; text-decoration-color: #0087ff\">Dense</span>)                   │ (<span style=\"color: #00d7ff; text-decoration-color: #00d7ff\">None</span>, <span style=\"color: #00af00; text-decoration-color: #00af00\">256</span>)            │       <span style=\"color: #00af00; text-decoration-color: #00af00\">590,080</span> │\n",
       "├─────────────────────────────────┼────────────────────────┼───────────────┤\n",
       "│ batch_normalization_4           │ (<span style=\"color: #00d7ff; text-decoration-color: #00d7ff\">None</span>, <span style=\"color: #00af00; text-decoration-color: #00af00\">256</span>)            │         <span style=\"color: #00af00; text-decoration-color: #00af00\">1,024</span> │\n",
       "│ (<span style=\"color: #0087ff; text-decoration-color: #0087ff\">BatchNormalization</span>)            │                        │               │\n",
       "├─────────────────────────────────┼────────────────────────┼───────────────┤\n",
       "│ dropout (<span style=\"color: #0087ff; text-decoration-color: #0087ff\">Dropout</span>)               │ (<span style=\"color: #00d7ff; text-decoration-color: #00d7ff\">None</span>, <span style=\"color: #00af00; text-decoration-color: #00af00\">256</span>)            │             <span style=\"color: #00af00; text-decoration-color: #00af00\">0</span> │\n",
       "├─────────────────────────────────┼────────────────────────┼───────────────┤\n",
       "│ dense_1 (<span style=\"color: #0087ff; text-decoration-color: #0087ff\">Dense</span>)                 │ (<span style=\"color: #00d7ff; text-decoration-color: #00d7ff\">None</span>, <span style=\"color: #00af00; text-decoration-color: #00af00\">128</span>)            │        <span style=\"color: #00af00; text-decoration-color: #00af00\">32,896</span> │\n",
       "├─────────────────────────────────┼────────────────────────┼───────────────┤\n",
       "│ batch_normalization_5           │ (<span style=\"color: #00d7ff; text-decoration-color: #00d7ff\">None</span>, <span style=\"color: #00af00; text-decoration-color: #00af00\">128</span>)            │           <span style=\"color: #00af00; text-decoration-color: #00af00\">512</span> │\n",
       "│ (<span style=\"color: #0087ff; text-decoration-color: #0087ff\">BatchNormalization</span>)            │                        │               │\n",
       "├─────────────────────────────────┼────────────────────────┼───────────────┤\n",
       "│ dropout_1 (<span style=\"color: #0087ff; text-decoration-color: #0087ff\">Dropout</span>)             │ (<span style=\"color: #00d7ff; text-decoration-color: #00d7ff\">None</span>, <span style=\"color: #00af00; text-decoration-color: #00af00\">128</span>)            │             <span style=\"color: #00af00; text-decoration-color: #00af00\">0</span> │\n",
       "├─────────────────────────────────┼────────────────────────┼───────────────┤\n",
       "│ dense_2 (<span style=\"color: #0087ff; text-decoration-color: #0087ff\">Dense</span>)                 │ (<span style=\"color: #00d7ff; text-decoration-color: #00d7ff\">None</span>, <span style=\"color: #00af00; text-decoration-color: #00af00\">5</span>)              │           <span style=\"color: #00af00; text-decoration-color: #00af00\">645</span> │\n",
       "└─────────────────────────────────┴────────────────────────┴───────────────┘\n",
       "</pre>\n"
      ]
     },
     "metadata": {},
     "output_type": "display_data"
    },
    {
     "data": {
      "text/plain": [
       "\u001B[1m Total params: \u001B[0m\u001B[38;5;34m1,014,917\u001B[0m (3.87 MB)\n"
      ],
      "text/html": [
       "<pre style=\"white-space:pre;overflow-x:auto;line-height:normal;font-family:Menlo,'DejaVu Sans Mono',consolas,'Courier New',monospace\"><span style=\"font-weight: bold\"> Total params: </span><span style=\"color: #00af00; text-decoration-color: #00af00\">1,014,917</span> (3.87 MB)\n",
       "</pre>\n"
      ]
     },
     "metadata": {},
     "output_type": "display_data"
    },
    {
     "data": {
      "text/plain": [
       "\u001B[1m Trainable params: \u001B[0m\u001B[38;5;34m1,013,189\u001B[0m (3.87 MB)\n"
      ],
      "text/html": [
       "<pre style=\"white-space:pre;overflow-x:auto;line-height:normal;font-family:Menlo,'DejaVu Sans Mono',consolas,'Courier New',monospace\"><span style=\"font-weight: bold\"> Trainable params: </span><span style=\"color: #00af00; text-decoration-color: #00af00\">1,013,189</span> (3.87 MB)\n",
       "</pre>\n"
      ]
     },
     "metadata": {},
     "output_type": "display_data"
    },
    {
     "data": {
      "text/plain": [
       "\u001B[1m Non-trainable params: \u001B[0m\u001B[38;5;34m1,728\u001B[0m (6.75 KB)\n"
      ],
      "text/html": [
       "<pre style=\"white-space:pre;overflow-x:auto;line-height:normal;font-family:Menlo,'DejaVu Sans Mono',consolas,'Courier New',monospace\"><span style=\"font-weight: bold\"> Non-trainable params: </span><span style=\"color: #00af00; text-decoration-color: #00af00\">1,728</span> (6.75 KB)\n",
       "</pre>\n"
      ]
     },
     "metadata": {},
     "output_type": "display_data"
    }
   ],
   "execution_count": 4
  },
  {
   "metadata": {
    "ExecuteTime": {
     "end_time": "2025-01-22T02:20:23.290294Z",
     "start_time": "2025-01-22T01:57:58.088351Z"
    }
   },
   "cell_type": "code",
   "source": [
    "from tensorflow.keras.callbacks import EarlyStopping, ReduceLROnPlateau\n",
    "\n",
    "reduce_lr = ReduceLROnPlateau(\n",
    "    monitor='val_loss',\n",
    "    factor=0.5,      # 학습률을 절반으로 줄임\n",
    "    patience=3,      # 3 epoch 동안 개선이 없으면 감소\n",
    "    min_lr=1e-7,     # 학습률 하한선\n",
    "    verbose=2\n",
    ")\n",
    "\n",
    "early_stopping = EarlyStopping(\n",
    "    monitor='val_loss',\n",
    "    patience=6,      # 6 epoch 동안 개선이 없으면 종료\n",
    "    restore_best_weights=True,\n",
    "\n",
    ")\n",
    "\n",
    "history = model.fit(\n",
    "    train_generator,\n",
    "    epochs=50,\n",
    "    validation_data=test_generator,\n",
    "    callbacks=[reduce_lr, early_stopping],\n",
    "    verbose=2\n",
    ")\n"
   ],
   "id": "313f1822b9bc0061",
   "outputs": [
    {
     "name": "stdout",
     "output_type": "stream",
     "text": [
      "Epoch 1/50\n",
      "365/365 - 28s - 77ms/step - accuracy: 0.2767 - loss: 1.8374 - val_accuracy: 0.3781 - val_loss: 1.4844 - learning_rate: 1.0000e-04\n",
      "Epoch 2/50\n",
      "365/365 - 28s - 77ms/step - accuracy: 0.2979 - loss: 1.7394 - val_accuracy: 0.4042 - val_loss: 1.4166 - learning_rate: 1.0000e-04\n",
      "Epoch 3/50\n",
      "365/365 - 29s - 81ms/step - accuracy: 0.3171 - loss: 1.6730 - val_accuracy: 0.4242 - val_loss: 1.3780 - learning_rate: 1.0000e-04\n",
      "Epoch 4/50\n",
      "365/365 - 29s - 79ms/step - accuracy: 0.3377 - loss: 1.6249 - val_accuracy: 0.4450 - val_loss: 1.3420 - learning_rate: 1.0000e-04\n",
      "Epoch 5/50\n",
      "365/365 - 28s - 77ms/step - accuracy: 0.3580 - loss: 1.5731 - val_accuracy: 0.4374 - val_loss: 1.3438 - learning_rate: 1.0000e-04\n",
      "Epoch 6/50\n",
      "365/365 - 27s - 74ms/step - accuracy: 0.3771 - loss: 1.5081 - val_accuracy: 0.4865 - val_loss: 1.2462 - learning_rate: 1.0000e-04\n",
      "Epoch 7/50\n",
      "365/365 - 27s - 74ms/step - accuracy: 0.3930 - loss: 1.4721 - val_accuracy: 0.4791 - val_loss: 1.2659 - learning_rate: 1.0000e-04\n",
      "Epoch 8/50\n",
      "365/365 - 27s - 74ms/step - accuracy: 0.4099 - loss: 1.4282 - val_accuracy: 0.4901 - val_loss: 1.2238 - learning_rate: 1.0000e-04\n",
      "Epoch 9/50\n",
      "365/365 - 27s - 74ms/step - accuracy: 0.4273 - loss: 1.3927 - val_accuracy: 0.5002 - val_loss: 1.2556 - learning_rate: 1.0000e-04\n",
      "Epoch 10/50\n",
      "365/365 - 27s - 73ms/step - accuracy: 0.4364 - loss: 1.3567 - val_accuracy: 0.4911 - val_loss: 1.2534 - learning_rate: 1.0000e-04\n",
      "Epoch 11/50\n",
      "365/365 - 35s - 95ms/step - accuracy: 0.4537 - loss: 1.3205 - val_accuracy: 0.5170 - val_loss: 1.1515 - learning_rate: 1.0000e-04\n",
      "Epoch 12/50\n",
      "365/365 - 33s - 91ms/step - accuracy: 0.4683 - loss: 1.2869 - val_accuracy: 0.5163 - val_loss: 1.1587 - learning_rate: 1.0000e-04\n",
      "Epoch 13/50\n",
      "365/365 - 26s - 72ms/step - accuracy: 0.4781 - loss: 1.2682 - val_accuracy: 0.5346 - val_loss: 1.1428 - learning_rate: 1.0000e-04\n",
      "Epoch 14/50\n",
      "365/365 - 26s - 72ms/step - accuracy: 0.4902 - loss: 1.2388 - val_accuracy: 0.5459 - val_loss: 1.0984 - learning_rate: 1.0000e-04\n",
      "Epoch 15/50\n",
      "365/365 - 26s - 72ms/step - accuracy: 0.4935 - loss: 1.2244 - val_accuracy: 0.5389 - val_loss: 1.1367 - learning_rate: 1.0000e-04\n",
      "Epoch 16/50\n",
      "365/365 - 26s - 72ms/step - accuracy: 0.5067 - loss: 1.1940 - val_accuracy: 0.5679 - val_loss: 1.0512 - learning_rate: 1.0000e-04\n",
      "Epoch 17/50\n",
      "365/365 - 26s - 72ms/step - accuracy: 0.5172 - loss: 1.1730 - val_accuracy: 0.5703 - val_loss: 1.0512 - learning_rate: 1.0000e-04\n",
      "Epoch 18/50\n",
      "365/365 - 26s - 72ms/step - accuracy: 0.5245 - loss: 1.1589 - val_accuracy: 0.5622 - val_loss: 1.0766 - learning_rate: 1.0000e-04\n",
      "Epoch 19/50\n",
      "\n",
      "Epoch 19: ReduceLROnPlateau reducing learning rate to 4.999999873689376e-05.\n",
      "365/365 - 26s - 72ms/step - accuracy: 0.5335 - loss: 1.1386 - val_accuracy: 0.5665 - val_loss: 1.0635 - learning_rate: 1.0000e-04\n",
      "Epoch 20/50\n",
      "365/365 - 26s - 72ms/step - accuracy: 0.5433 - loss: 1.1195 - val_accuracy: 0.5902 - val_loss: 0.9948 - learning_rate: 5.0000e-05\n",
      "Epoch 21/50\n",
      "365/365 - 26s - 72ms/step - accuracy: 0.5472 - loss: 1.1073 - val_accuracy: 0.5955 - val_loss: 1.0006 - learning_rate: 5.0000e-05\n",
      "Epoch 22/50\n",
      "365/365 - 26s - 72ms/step - accuracy: 0.5516 - loss: 1.0917 - val_accuracy: 0.6030 - val_loss: 0.9736 - learning_rate: 5.0000e-05\n",
      "Epoch 23/50\n",
      "365/365 - 26s - 72ms/step - accuracy: 0.5586 - loss: 1.0878 - val_accuracy: 0.6059 - val_loss: 0.9573 - learning_rate: 5.0000e-05\n",
      "Epoch 24/50\n",
      "365/365 - 26s - 72ms/step - accuracy: 0.5610 - loss: 1.0726 - val_accuracy: 0.5996 - val_loss: 0.9897 - learning_rate: 5.0000e-05\n",
      "Epoch 25/50\n",
      "365/365 - 26s - 72ms/step - accuracy: 0.5637 - loss: 1.0648 - val_accuracy: 0.6022 - val_loss: 0.9616 - learning_rate: 5.0000e-05\n",
      "Epoch 26/50\n",
      "\n",
      "Epoch 26: ReduceLROnPlateau reducing learning rate to 2.499999936844688e-05.\n",
      "365/365 - 26s - 72ms/step - accuracy: 0.5651 - loss: 1.0620 - val_accuracy: 0.6090 - val_loss: 0.9612 - learning_rate: 5.0000e-05\n",
      "Epoch 27/50\n",
      "365/365 - 26s - 72ms/step - accuracy: 0.5754 - loss: 1.0488 - val_accuracy: 0.6131 - val_loss: 0.9452 - learning_rate: 2.5000e-05\n",
      "Epoch 28/50\n",
      "365/365 - 26s - 72ms/step - accuracy: 0.5747 - loss: 1.0499 - val_accuracy: 0.6157 - val_loss: 0.9429 - learning_rate: 2.5000e-05\n",
      "Epoch 29/50\n",
      "365/365 - 26s - 72ms/step - accuracy: 0.5779 - loss: 1.0436 - val_accuracy: 0.6166 - val_loss: 0.9388 - learning_rate: 2.5000e-05\n",
      "Epoch 30/50\n",
      "365/365 - 26s - 72ms/step - accuracy: 0.5753 - loss: 1.0443 - val_accuracy: 0.6217 - val_loss: 0.9328 - learning_rate: 2.5000e-05\n",
      "Epoch 31/50\n",
      "365/365 - 26s - 72ms/step - accuracy: 0.5773 - loss: 1.0440 - val_accuracy: 0.6154 - val_loss: 0.9370 - learning_rate: 2.5000e-05\n",
      "Epoch 32/50\n",
      "365/365 - 26s - 72ms/step - accuracy: 0.5787 - loss: 1.0443 - val_accuracy: 0.6090 - val_loss: 0.9583 - learning_rate: 2.5000e-05\n",
      "Epoch 33/50\n",
      "\n",
      "Epoch 33: ReduceLROnPlateau reducing learning rate to 1.249999968422344e-05.\n",
      "365/365 - 26s - 72ms/step - accuracy: 0.5780 - loss: 1.0375 - val_accuracy: 0.6198 - val_loss: 0.9366 - learning_rate: 2.5000e-05\n",
      "Epoch 34/50\n",
      "365/365 - 26s - 72ms/step - accuracy: 0.5767 - loss: 1.0354 - val_accuracy: 0.6227 - val_loss: 0.9334 - learning_rate: 1.2500e-05\n",
      "Epoch 35/50\n",
      "365/365 - 26s - 72ms/step - accuracy: 0.5848 - loss: 1.0258 - val_accuracy: 0.6251 - val_loss: 0.9268 - learning_rate: 1.2500e-05\n",
      "Epoch 36/50\n",
      "365/365 - 26s - 72ms/step - accuracy: 0.5809 - loss: 1.0264 - val_accuracy: 0.6251 - val_loss: 0.9196 - learning_rate: 1.2500e-05\n",
      "Epoch 37/50\n",
      "365/365 - 26s - 72ms/step - accuracy: 0.5867 - loss: 1.0225 - val_accuracy: 0.6262 - val_loss: 0.9252 - learning_rate: 1.2500e-05\n",
      "Epoch 38/50\n",
      "365/365 - 26s - 72ms/step - accuracy: 0.5846 - loss: 1.0199 - val_accuracy: 0.6239 - val_loss: 0.9281 - learning_rate: 1.2500e-05\n",
      "Epoch 39/50\n",
      "\n",
      "Epoch 39: ReduceLROnPlateau reducing learning rate to 6.24999984211172e-06.\n",
      "365/365 - 27s - 73ms/step - accuracy: 0.5867 - loss: 1.0192 - val_accuracy: 0.6284 - val_loss: 0.9217 - learning_rate: 1.2500e-05\n",
      "Epoch 40/50\n",
      "365/365 - 27s - 73ms/step - accuracy: 0.5867 - loss: 1.0158 - val_accuracy: 0.6267 - val_loss: 0.9212 - learning_rate: 6.2500e-06\n",
      "Epoch 41/50\n",
      "365/365 - 27s - 73ms/step - accuracy: 0.5862 - loss: 1.0202 - val_accuracy: 0.6291 - val_loss: 0.9190 - learning_rate: 6.2500e-06\n",
      "Epoch 42/50\n",
      "365/365 - 26s - 72ms/step - accuracy: 0.5893 - loss: 1.0120 - val_accuracy: 0.6243 - val_loss: 0.9203 - learning_rate: 6.2500e-06\n",
      "Epoch 43/50\n",
      "365/365 - 27s - 73ms/step - accuracy: 0.5880 - loss: 1.0112 - val_accuracy: 0.6280 - val_loss: 0.9151 - learning_rate: 6.2500e-06\n",
      "Epoch 44/50\n",
      "365/365 - 27s - 73ms/step - accuracy: 0.5891 - loss: 1.0088 - val_accuracy: 0.6296 - val_loss: 0.9170 - learning_rate: 6.2500e-06\n",
      "Epoch 45/50\n",
      "365/365 - 27s - 73ms/step - accuracy: 0.5904 - loss: 1.0058 - val_accuracy: 0.6289 - val_loss: 0.9205 - learning_rate: 6.2500e-06\n",
      "Epoch 46/50\n",
      "\n",
      "Epoch 46: ReduceLROnPlateau reducing learning rate to 3.12499992105586e-06.\n",
      "365/365 - 26s - 72ms/step - accuracy: 0.5922 - loss: 1.0136 - val_accuracy: 0.6286 - val_loss: 0.9204 - learning_rate: 6.2500e-06\n",
      "Epoch 47/50\n",
      "365/365 - 26s - 72ms/step - accuracy: 0.5925 - loss: 1.0150 - val_accuracy: 0.6316 - val_loss: 0.9156 - learning_rate: 3.1250e-06\n",
      "Epoch 48/50\n",
      "365/365 - 26s - 72ms/step - accuracy: 0.5900 - loss: 1.0078 - val_accuracy: 0.6308 - val_loss: 0.9166 - learning_rate: 3.1250e-06\n",
      "Epoch 49/50\n",
      "365/365 - 26s - 73ms/step - accuracy: 0.5921 - loss: 1.0096 - val_accuracy: 0.6313 - val_loss: 0.9149 - learning_rate: 3.1250e-06\n",
      "Epoch 50/50\n",
      "365/365 - 26s - 72ms/step - accuracy: 0.5937 - loss: 1.0124 - val_accuracy: 0.6320 - val_loss: 0.9149 - learning_rate: 3.1250e-06\n"
     ]
    }
   ],
   "execution_count": 8
  },
  {
   "metadata": {
    "ExecuteTime": {
     "end_time": "2025-01-31T01:57:05.447990Z",
     "start_time": "2025-01-31T01:57:03.608093Z"
    }
   },
   "cell_type": "code",
   "source": "!pip install deepface",
   "id": "6c43ba1ea3df9d9d",
   "outputs": [
    {
     "name": "stdout",
     "output_type": "stream",
     "text": [
      "Requirement already satisfied: deepface in c:\\users\\ssafy\\appdata\\local\\programs\\python\\python312\\lib\\site-packages (0.0.94)\n",
      "Requirement already satisfied: requests>=2.27.1 in c:\\users\\ssafy\\appdata\\local\\programs\\python\\python312\\lib\\site-packages (from deepface) (2.32.3)\n",
      "Requirement already satisfied: numpy>=1.14.0 in c:\\users\\ssafy\\appdata\\local\\programs\\python\\python312\\lib\\site-packages (from deepface) (1.26.4)\n",
      "Requirement already satisfied: pandas>=0.23.4 in c:\\users\\ssafy\\appdata\\local\\programs\\python\\python312\\lib\\site-packages (from deepface) (2.2.3)\n",
      "Requirement already satisfied: gdown>=3.10.1 in c:\\users\\ssafy\\appdata\\local\\programs\\python\\python312\\lib\\site-packages (from deepface) (5.2.0)\n",
      "Requirement already satisfied: tqdm>=4.30.0 in c:\\users\\ssafy\\appdata\\local\\programs\\python\\python312\\lib\\site-packages (from deepface) (4.67.1)\n",
      "Requirement already satisfied: Pillow>=5.2.0 in c:\\users\\ssafy\\appdata\\local\\programs\\python\\python312\\lib\\site-packages (from deepface) (11.1.0)\n",
      "Requirement already satisfied: opencv-python>=4.5.5.64 in c:\\users\\ssafy\\appdata\\local\\programs\\python\\python312\\lib\\site-packages (from deepface) (4.11.0.86)\n",
      "Requirement already satisfied: tensorflow>=1.9.0 in c:\\users\\ssafy\\appdata\\local\\programs\\python\\python312\\lib\\site-packages (from deepface) (2.18.0)\n",
      "Requirement already satisfied: keras>=2.2.0 in c:\\users\\ssafy\\appdata\\local\\programs\\python\\python312\\lib\\site-packages (from deepface) (3.8.0)\n",
      "Requirement already satisfied: Flask>=1.1.2 in c:\\users\\ssafy\\appdata\\local\\programs\\python\\python312\\lib\\site-packages (from deepface) (3.1.0)\n",
      "Requirement already satisfied: flask_cors>=4.0.1 in c:\\users\\ssafy\\appdata\\local\\programs\\python\\python312\\lib\\site-packages (from deepface) (5.0.0)\n",
      "Requirement already satisfied: mtcnn>=0.1.0 in c:\\users\\ssafy\\appdata\\local\\programs\\python\\python312\\lib\\site-packages (from deepface) (1.0.0)\n",
      "Requirement already satisfied: retina-face>=0.0.14 in c:\\users\\ssafy\\appdata\\local\\programs\\python\\python312\\lib\\site-packages (from deepface) (0.0.17)\n",
      "Requirement already satisfied: fire>=0.4.0 in c:\\users\\ssafy\\appdata\\local\\programs\\python\\python312\\lib\\site-packages (from deepface) (0.7.0)\n",
      "Requirement already satisfied: gunicorn>=20.1.0 in c:\\users\\ssafy\\appdata\\local\\programs\\python\\python312\\lib\\site-packages (from deepface) (23.0.0)\n",
      "Requirement already satisfied: termcolor in c:\\users\\ssafy\\appdata\\local\\programs\\python\\python312\\lib\\site-packages (from fire>=0.4.0->deepface) (2.5.0)\n",
      "Requirement already satisfied: Werkzeug>=3.1 in c:\\users\\ssafy\\appdata\\local\\programs\\python\\python312\\lib\\site-packages (from Flask>=1.1.2->deepface) (3.1.3)\n",
      "Requirement already satisfied: Jinja2>=3.1.2 in c:\\users\\ssafy\\appdata\\local\\programs\\python\\python312\\lib\\site-packages (from Flask>=1.1.2->deepface) (3.1.5)\n",
      "Requirement already satisfied: itsdangerous>=2.2 in c:\\users\\ssafy\\appdata\\local\\programs\\python\\python312\\lib\\site-packages (from Flask>=1.1.2->deepface) (2.2.0)\n",
      "Requirement already satisfied: click>=8.1.3 in c:\\users\\ssafy\\appdata\\local\\programs\\python\\python312\\lib\\site-packages (from Flask>=1.1.2->deepface) (8.1.8)\n",
      "Requirement already satisfied: blinker>=1.9 in c:\\users\\ssafy\\appdata\\local\\programs\\python\\python312\\lib\\site-packages (from Flask>=1.1.2->deepface) (1.9.0)\n",
      "Requirement already satisfied: beautifulsoup4 in c:\\users\\ssafy\\appdata\\local\\programs\\python\\python312\\lib\\site-packages (from gdown>=3.10.1->deepface) (4.12.3)\n",
      "Requirement already satisfied: filelock in c:\\users\\ssafy\\appdata\\local\\programs\\python\\python312\\lib\\site-packages (from gdown>=3.10.1->deepface) (3.17.0)\n",
      "Requirement already satisfied: packaging in c:\\users\\ssafy\\appdata\\local\\programs\\python\\python312\\lib\\site-packages (from gunicorn>=20.1.0->deepface) (24.2)\n",
      "Requirement already satisfied: absl-py in c:\\users\\ssafy\\appdata\\local\\programs\\python\\python312\\lib\\site-packages (from keras>=2.2.0->deepface) (2.1.0)\n",
      "Requirement already satisfied: rich in c:\\users\\ssafy\\appdata\\local\\programs\\python\\python312\\lib\\site-packages (from keras>=2.2.0->deepface) (13.9.4)\n",
      "Requirement already satisfied: namex in c:\\users\\ssafy\\appdata\\local\\programs\\python\\python312\\lib\\site-packages (from keras>=2.2.0->deepface) (0.0.8)\n",
      "Requirement already satisfied: h5py in c:\\users\\ssafy\\appdata\\local\\programs\\python\\python312\\lib\\site-packages (from keras>=2.2.0->deepface) (3.12.1)\n",
      "Requirement already satisfied: optree in c:\\users\\ssafy\\appdata\\local\\programs\\python\\python312\\lib\\site-packages (from keras>=2.2.0->deepface) (0.14.0)\n",
      "Requirement already satisfied: ml-dtypes in c:\\users\\ssafy\\appdata\\local\\programs\\python\\python312\\lib\\site-packages (from keras>=2.2.0->deepface) (0.4.1)\n",
      "Requirement already satisfied: joblib>=1.4.2 in c:\\users\\ssafy\\appdata\\local\\programs\\python\\python312\\lib\\site-packages (from mtcnn>=0.1.0->deepface) (1.4.2)\n",
      "Requirement already satisfied: lz4>=4.3.3 in c:\\users\\ssafy\\appdata\\local\\programs\\python\\python312\\lib\\site-packages (from mtcnn>=0.1.0->deepface) (4.3.3)\n",
      "Requirement already satisfied: python-dateutil>=2.8.2 in c:\\users\\ssafy\\appdata\\local\\programs\\python\\python312\\lib\\site-packages (from pandas>=0.23.4->deepface) (2.9.0.post0)\n",
      "Requirement already satisfied: pytz>=2020.1 in c:\\users\\ssafy\\appdata\\local\\programs\\python\\python312\\lib\\site-packages (from pandas>=0.23.4->deepface) (2024.2)\n",
      "Requirement already satisfied: tzdata>=2022.7 in c:\\users\\ssafy\\appdata\\local\\programs\\python\\python312\\lib\\site-packages (from pandas>=0.23.4->deepface) (2025.1)\n",
      "Requirement already satisfied: charset-normalizer<4,>=2 in c:\\users\\ssafy\\appdata\\local\\programs\\python\\python312\\lib\\site-packages (from requests>=2.27.1->deepface) (3.4.1)\n",
      "Requirement already satisfied: idna<4,>=2.5 in c:\\users\\ssafy\\appdata\\local\\programs\\python\\python312\\lib\\site-packages (from requests>=2.27.1->deepface) (3.10)\n",
      "Requirement already satisfied: urllib3<3,>=1.21.1 in c:\\users\\ssafy\\appdata\\local\\programs\\python\\python312\\lib\\site-packages (from requests>=2.27.1->deepface) (2.3.0)\n",
      "Requirement already satisfied: certifi>=2017.4.17 in c:\\users\\ssafy\\appdata\\local\\programs\\python\\python312\\lib\\site-packages (from requests>=2.27.1->deepface) (2024.12.14)\n",
      "Requirement already satisfied: tensorflow-intel==2.18.0 in c:\\users\\ssafy\\appdata\\local\\programs\\python\\python312\\lib\\site-packages (from tensorflow>=1.9.0->deepface) (2.18.0)\n",
      "Requirement already satisfied: astunparse>=1.6.0 in c:\\users\\ssafy\\appdata\\local\\programs\\python\\python312\\lib\\site-packages (from tensorflow-intel==2.18.0->tensorflow>=1.9.0->deepface) (1.6.3)\n",
      "Requirement already satisfied: flatbuffers>=24.3.25 in c:\\users\\ssafy\\appdata\\local\\programs\\python\\python312\\lib\\site-packages (from tensorflow-intel==2.18.0->tensorflow>=1.9.0->deepface) (24.12.23)\n",
      "Requirement already satisfied: gast!=0.5.0,!=0.5.1,!=0.5.2,>=0.2.1 in c:\\users\\ssafy\\appdata\\local\\programs\\python\\python312\\lib\\site-packages (from tensorflow-intel==2.18.0->tensorflow>=1.9.0->deepface) (0.6.0)\n",
      "Requirement already satisfied: google-pasta>=0.1.1 in c:\\users\\ssafy\\appdata\\local\\programs\\python\\python312\\lib\\site-packages (from tensorflow-intel==2.18.0->tensorflow>=1.9.0->deepface) (0.2.0)\n",
      "Requirement already satisfied: libclang>=13.0.0 in c:\\users\\ssafy\\appdata\\local\\programs\\python\\python312\\lib\\site-packages (from tensorflow-intel==2.18.0->tensorflow>=1.9.0->deepface) (18.1.1)\n",
      "Requirement already satisfied: opt-einsum>=2.3.2 in c:\\users\\ssafy\\appdata\\local\\programs\\python\\python312\\lib\\site-packages (from tensorflow-intel==2.18.0->tensorflow>=1.9.0->deepface) (3.4.0)\n",
      "Requirement already satisfied: protobuf!=4.21.0,!=4.21.1,!=4.21.2,!=4.21.3,!=4.21.4,!=4.21.5,<6.0.0dev,>=3.20.3 in c:\\users\\ssafy\\appdata\\local\\programs\\python\\python312\\lib\\site-packages (from tensorflow-intel==2.18.0->tensorflow>=1.9.0->deepface) (4.25.5)\n",
      "Requirement already satisfied: setuptools in c:\\users\\ssafy\\appdata\\local\\programs\\python\\python312\\lib\\site-packages (from tensorflow-intel==2.18.0->tensorflow>=1.9.0->deepface) (75.8.0)\n",
      "Requirement already satisfied: six>=1.12.0 in c:\\users\\ssafy\\appdata\\local\\programs\\python\\python312\\lib\\site-packages (from tensorflow-intel==2.18.0->tensorflow>=1.9.0->deepface) (1.17.0)\n",
      "Requirement already satisfied: typing-extensions>=3.6.6 in c:\\users\\ssafy\\appdata\\local\\programs\\python\\python312\\lib\\site-packages (from tensorflow-intel==2.18.0->tensorflow>=1.9.0->deepface) (4.12.2)\n",
      "Requirement already satisfied: wrapt>=1.11.0 in c:\\users\\ssafy\\appdata\\local\\programs\\python\\python312\\lib\\site-packages (from tensorflow-intel==2.18.0->tensorflow>=1.9.0->deepface) (1.17.2)\n",
      "Requirement already satisfied: grpcio<2.0,>=1.24.3 in c:\\users\\ssafy\\appdata\\local\\programs\\python\\python312\\lib\\site-packages (from tensorflow-intel==2.18.0->tensorflow>=1.9.0->deepface) (1.69.0)\n",
      "Requirement already satisfied: tensorboard<2.19,>=2.18 in c:\\users\\ssafy\\appdata\\local\\programs\\python\\python312\\lib\\site-packages (from tensorflow-intel==2.18.0->tensorflow>=1.9.0->deepface) (2.18.0)\n",
      "Requirement already satisfied: colorama in c:\\users\\ssafy\\appdata\\local\\programs\\python\\python312\\lib\\site-packages (from tqdm>=4.30.0->deepface) (0.4.6)\n",
      "Requirement already satisfied: MarkupSafe>=2.0 in c:\\users\\ssafy\\appdata\\local\\programs\\python\\python312\\lib\\site-packages (from Jinja2>=3.1.2->Flask>=1.1.2->deepface) (3.0.2)\n",
      "Requirement already satisfied: soupsieve>1.2 in c:\\users\\ssafy\\appdata\\local\\programs\\python\\python312\\lib\\site-packages (from beautifulsoup4->gdown>=3.10.1->deepface) (2.6)\n",
      "Requirement already satisfied: PySocks!=1.5.7,>=1.5.6 in c:\\users\\ssafy\\appdata\\local\\programs\\python\\python312\\lib\\site-packages (from requests[socks]->gdown>=3.10.1->deepface) (1.7.1)\n",
      "Requirement already satisfied: markdown-it-py>=2.2.0 in c:\\users\\ssafy\\appdata\\local\\programs\\python\\python312\\lib\\site-packages (from rich->keras>=2.2.0->deepface) (3.0.0)\n",
      "Requirement already satisfied: pygments<3.0.0,>=2.13.0 in c:\\users\\ssafy\\appdata\\local\\programs\\python\\python312\\lib\\site-packages (from rich->keras>=2.2.0->deepface) (2.19.1)\n",
      "Requirement already satisfied: wheel<1.0,>=0.23.0 in c:\\users\\ssafy\\appdata\\local\\programs\\python\\python312\\lib\\site-packages (from astunparse>=1.6.0->tensorflow-intel==2.18.0->tensorflow>=1.9.0->deepface) (0.45.1)\n",
      "Requirement already satisfied: mdurl~=0.1 in c:\\users\\ssafy\\appdata\\local\\programs\\python\\python312\\lib\\site-packages (from markdown-it-py>=2.2.0->rich->keras>=2.2.0->deepface) (0.1.2)\n",
      "Requirement already satisfied: markdown>=2.6.8 in c:\\users\\ssafy\\appdata\\local\\programs\\python\\python312\\lib\\site-packages (from tensorboard<2.19,>=2.18->tensorflow-intel==2.18.0->tensorflow>=1.9.0->deepface) (3.7)\n",
      "Requirement already satisfied: tensorboard-data-server<0.8.0,>=0.7.0 in c:\\users\\ssafy\\appdata\\local\\programs\\python\\python312\\lib\\site-packages (from tensorboard<2.19,>=2.18->tensorflow-intel==2.18.0->tensorflow>=1.9.0->deepface) (0.7.2)\n"
     ]
    },
    {
     "name": "stderr",
     "output_type": "stream",
     "text": [
      "\n",
      "[notice] A new release of pip is available: 24.3.1 -> 25.0\n",
      "[notice] To update, run: python.exe -m pip install --upgrade pip\n"
     ]
    }
   ],
   "execution_count": 3
  },
  {
   "metadata": {
    "ExecuteTime": {
     "end_time": "2025-01-31T01:56:20.234003Z",
     "start_time": "2025-01-31T01:56:20.070672Z"
    }
   },
   "cell_type": "code",
   "source": [
    "from deepface.extendedmodels import Emotion\n",
    "\n",
    "emotion_model = Emotion.loadModel()"
   ],
   "id": "786861605e0fc543",
   "outputs": [
    {
     "ename": "ModuleNotFoundError",
     "evalue": "No module named 'deepface.extendedmodels'",
     "output_type": "error",
     "traceback": [
      "\u001B[1;31m---------------------------------------------------------------------------\u001B[0m",
      "\u001B[1;31mModuleNotFoundError\u001B[0m                       Traceback (most recent call last)",
      "Cell \u001B[1;32mIn[1], line 1\u001B[0m\n\u001B[1;32m----> 1\u001B[0m \u001B[38;5;28;01mfrom\u001B[39;00m\u001B[38;5;250m \u001B[39m\u001B[38;5;21;01mdeepface\u001B[39;00m\u001B[38;5;21;01m.\u001B[39;00m\u001B[38;5;21;01mextendedmodels\u001B[39;00m\u001B[38;5;250m \u001B[39m\u001B[38;5;28;01mimport\u001B[39;00m Emotion\n\u001B[0;32m      3\u001B[0m emotion_model \u001B[38;5;241m=\u001B[39m Emotion\u001B[38;5;241m.\u001B[39mloadModel()\n",
      "\u001B[1;31mModuleNotFoundError\u001B[0m: No module named 'deepface.extendedmodels'"
     ]
    }
   ],
   "execution_count": 1
  },
  {
   "metadata": {},
   "cell_type": "code",
   "outputs": [],
   "execution_count": null,
   "source": "",
   "id": "f299a16b21b33972"
  }
 ],
 "metadata": {
  "kernelspec": {
   "display_name": "Python 3",
   "language": "python",
   "name": "python3"
  },
  "language_info": {
   "codemirror_mode": {
    "name": "ipython",
    "version": 2
   },
   "file_extension": ".py",
   "mimetype": "text/x-python",
   "name": "python",
   "nbconvert_exporter": "python",
   "pygments_lexer": "ipython2",
   "version": "2.7.6"
  }
 },
 "nbformat": 4,
 "nbformat_minor": 5
}
