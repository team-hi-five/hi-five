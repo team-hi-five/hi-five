{
 "cells": [
  {
   "cell_type": "code",
   "id": "initial_id",
   "metadata": {
    "collapsed": true,
    "ExecuteTime": {
     "end_time": "2025-01-22T03:11:11.501049Z",
     "start_time": "2025-01-22T03:11:07.784945Z"
    }
   },
   "source": [
    "# !pip install deepface\n",
    "#!pip install tf-keras"
   ],
   "outputs": [
    {
     "name": "stdout",
     "output_type": "stream",
     "text": [
      "Collecting tf-keras\n",
      "  Downloading tf_keras-2.18.0-py3-none-any.whl.metadata (1.6 kB)\n",
      "Requirement already satisfied: tensorflow<2.19,>=2.18 in c:\\ssafy\\python\\comprehensive emotion ai\\.venv\\lib\\site-packages (from tf-keras) (2.18.0)\n",
      "Requirement already satisfied: tensorflow-intel==2.18.0 in c:\\ssafy\\python\\comprehensive emotion ai\\.venv\\lib\\site-packages (from tensorflow<2.19,>=2.18->tf-keras) (2.18.0)\n",
      "Requirement already satisfied: absl-py>=1.0.0 in c:\\ssafy\\python\\comprehensive emotion ai\\.venv\\lib\\site-packages (from tensorflow-intel==2.18.0->tensorflow<2.19,>=2.18->tf-keras) (2.1.0)\n",
      "Requirement already satisfied: astunparse>=1.6.0 in c:\\ssafy\\python\\comprehensive emotion ai\\.venv\\lib\\site-packages (from tensorflow-intel==2.18.0->tensorflow<2.19,>=2.18->tf-keras) (1.6.3)\n",
      "Requirement already satisfied: flatbuffers>=24.3.25 in c:\\ssafy\\python\\comprehensive emotion ai\\.venv\\lib\\site-packages (from tensorflow-intel==2.18.0->tensorflow<2.19,>=2.18->tf-keras) (25.1.21)\n",
      "Requirement already satisfied: gast!=0.5.0,!=0.5.1,!=0.5.2,>=0.2.1 in c:\\ssafy\\python\\comprehensive emotion ai\\.venv\\lib\\site-packages (from tensorflow-intel==2.18.0->tensorflow<2.19,>=2.18->tf-keras) (0.6.0)\n",
      "Requirement already satisfied: google-pasta>=0.1.1 in c:\\ssafy\\python\\comprehensive emotion ai\\.venv\\lib\\site-packages (from tensorflow-intel==2.18.0->tensorflow<2.19,>=2.18->tf-keras) (0.2.0)\n",
      "Requirement already satisfied: libclang>=13.0.0 in c:\\ssafy\\python\\comprehensive emotion ai\\.venv\\lib\\site-packages (from tensorflow-intel==2.18.0->tensorflow<2.19,>=2.18->tf-keras) (18.1.1)\n",
      "Requirement already satisfied: opt-einsum>=2.3.2 in c:\\ssafy\\python\\comprehensive emotion ai\\.venv\\lib\\site-packages (from tensorflow-intel==2.18.0->tensorflow<2.19,>=2.18->tf-keras) (3.4.0)\n",
      "Requirement already satisfied: packaging in c:\\ssafy\\python\\comprehensive emotion ai\\.venv\\lib\\site-packages (from tensorflow-intel==2.18.0->tensorflow<2.19,>=2.18->tf-keras) (24.2)\n",
      "Requirement already satisfied: protobuf!=4.21.0,!=4.21.1,!=4.21.2,!=4.21.3,!=4.21.4,!=4.21.5,<6.0.0dev,>=3.20.3 in c:\\ssafy\\python\\comprehensive emotion ai\\.venv\\lib\\site-packages (from tensorflow-intel==2.18.0->tensorflow<2.19,>=2.18->tf-keras) (5.29.3)\n",
      "Requirement already satisfied: requests<3,>=2.21.0 in c:\\ssafy\\python\\comprehensive emotion ai\\.venv\\lib\\site-packages (from tensorflow-intel==2.18.0->tensorflow<2.19,>=2.18->tf-keras) (2.32.3)\n",
      "Requirement already satisfied: setuptools in c:\\ssafy\\python\\comprehensive emotion ai\\.venv\\lib\\site-packages (from tensorflow-intel==2.18.0->tensorflow<2.19,>=2.18->tf-keras) (75.8.0)\n",
      "Requirement already satisfied: six>=1.12.0 in c:\\ssafy\\python\\comprehensive emotion ai\\.venv\\lib\\site-packages (from tensorflow-intel==2.18.0->tensorflow<2.19,>=2.18->tf-keras) (1.17.0)\n",
      "Requirement already satisfied: termcolor>=1.1.0 in c:\\ssafy\\python\\comprehensive emotion ai\\.venv\\lib\\site-packages (from tensorflow-intel==2.18.0->tensorflow<2.19,>=2.18->tf-keras) (2.5.0)\n",
      "Requirement already satisfied: typing-extensions>=3.6.6 in c:\\ssafy\\python\\comprehensive emotion ai\\.venv\\lib\\site-packages (from tensorflow-intel==2.18.0->tensorflow<2.19,>=2.18->tf-keras) (4.12.2)\n",
      "Requirement already satisfied: wrapt>=1.11.0 in c:\\ssafy\\python\\comprehensive emotion ai\\.venv\\lib\\site-packages (from tensorflow-intel==2.18.0->tensorflow<2.19,>=2.18->tf-keras) (1.17.2)\n",
      "Requirement already satisfied: grpcio<2.0,>=1.24.3 in c:\\ssafy\\python\\comprehensive emotion ai\\.venv\\lib\\site-packages (from tensorflow-intel==2.18.0->tensorflow<2.19,>=2.18->tf-keras) (1.69.0)\n",
      "Requirement already satisfied: tensorboard<2.19,>=2.18 in c:\\ssafy\\python\\comprehensive emotion ai\\.venv\\lib\\site-packages (from tensorflow-intel==2.18.0->tensorflow<2.19,>=2.18->tf-keras) (2.18.0)\n",
      "Requirement already satisfied: keras>=3.5.0 in c:\\ssafy\\python\\comprehensive emotion ai\\.venv\\lib\\site-packages (from tensorflow-intel==2.18.0->tensorflow<2.19,>=2.18->tf-keras) (3.8.0)\n",
      "Requirement already satisfied: numpy<2.1.0,>=1.26.0 in c:\\ssafy\\python\\comprehensive emotion ai\\.venv\\lib\\site-packages (from tensorflow-intel==2.18.0->tensorflow<2.19,>=2.18->tf-keras) (2.0.2)\n",
      "Requirement already satisfied: h5py>=3.11.0 in c:\\ssafy\\python\\comprehensive emotion ai\\.venv\\lib\\site-packages (from tensorflow-intel==2.18.0->tensorflow<2.19,>=2.18->tf-keras) (3.12.1)\n",
      "Requirement already satisfied: ml-dtypes<0.5.0,>=0.4.0 in c:\\ssafy\\python\\comprehensive emotion ai\\.venv\\lib\\site-packages (from tensorflow-intel==2.18.0->tensorflow<2.19,>=2.18->tf-keras) (0.4.1)\n",
      "Requirement already satisfied: wheel<1.0,>=0.23.0 in c:\\ssafy\\python\\comprehensive emotion ai\\.venv\\lib\\site-packages (from astunparse>=1.6.0->tensorflow-intel==2.18.0->tensorflow<2.19,>=2.18->tf-keras) (0.45.1)\n",
      "Requirement already satisfied: rich in c:\\ssafy\\python\\comprehensive emotion ai\\.venv\\lib\\site-packages (from keras>=3.5.0->tensorflow-intel==2.18.0->tensorflow<2.19,>=2.18->tf-keras) (13.9.4)\n",
      "Requirement already satisfied: namex in c:\\ssafy\\python\\comprehensive emotion ai\\.venv\\lib\\site-packages (from keras>=3.5.0->tensorflow-intel==2.18.0->tensorflow<2.19,>=2.18->tf-keras) (0.0.8)\n",
      "Requirement already satisfied: optree in c:\\ssafy\\python\\comprehensive emotion ai\\.venv\\lib\\site-packages (from keras>=3.5.0->tensorflow-intel==2.18.0->tensorflow<2.19,>=2.18->tf-keras) (0.14.0)\n",
      "Requirement already satisfied: charset-normalizer<4,>=2 in c:\\ssafy\\python\\comprehensive emotion ai\\.venv\\lib\\site-packages (from requests<3,>=2.21.0->tensorflow-intel==2.18.0->tensorflow<2.19,>=2.18->tf-keras) (3.4.1)\n",
      "Requirement already satisfied: idna<4,>=2.5 in c:\\ssafy\\python\\comprehensive emotion ai\\.venv\\lib\\site-packages (from requests<3,>=2.21.0->tensorflow-intel==2.18.0->tensorflow<2.19,>=2.18->tf-keras) (3.10)\n",
      "Requirement already satisfied: urllib3<3,>=1.21.1 in c:\\ssafy\\python\\comprehensive emotion ai\\.venv\\lib\\site-packages (from requests<3,>=2.21.0->tensorflow-intel==2.18.0->tensorflow<2.19,>=2.18->tf-keras) (2.3.0)\n",
      "Requirement already satisfied: certifi>=2017.4.17 in c:\\ssafy\\python\\comprehensive emotion ai\\.venv\\lib\\site-packages (from requests<3,>=2.21.0->tensorflow-intel==2.18.0->tensorflow<2.19,>=2.18->tf-keras) (2024.12.14)\n",
      "Requirement already satisfied: markdown>=2.6.8 in c:\\ssafy\\python\\comprehensive emotion ai\\.venv\\lib\\site-packages (from tensorboard<2.19,>=2.18->tensorflow-intel==2.18.0->tensorflow<2.19,>=2.18->tf-keras) (3.7)\n",
      "Requirement already satisfied: tensorboard-data-server<0.8.0,>=0.7.0 in c:\\ssafy\\python\\comprehensive emotion ai\\.venv\\lib\\site-packages (from tensorboard<2.19,>=2.18->tensorflow-intel==2.18.0->tensorflow<2.19,>=2.18->tf-keras) (0.7.2)\n",
      "Requirement already satisfied: werkzeug>=1.0.1 in c:\\ssafy\\python\\comprehensive emotion ai\\.venv\\lib\\site-packages (from tensorboard<2.19,>=2.18->tensorflow-intel==2.18.0->tensorflow<2.19,>=2.18->tf-keras) (3.1.3)\n",
      "Requirement already satisfied: MarkupSafe>=2.1.1 in c:\\ssafy\\python\\comprehensive emotion ai\\.venv\\lib\\site-packages (from werkzeug>=1.0.1->tensorboard<2.19,>=2.18->tensorflow-intel==2.18.0->tensorflow<2.19,>=2.18->tf-keras) (3.0.2)\n",
      "Requirement already satisfied: markdown-it-py>=2.2.0 in c:\\ssafy\\python\\comprehensive emotion ai\\.venv\\lib\\site-packages (from rich->keras>=3.5.0->tensorflow-intel==2.18.0->tensorflow<2.19,>=2.18->tf-keras) (3.0.0)\n",
      "Requirement already satisfied: pygments<3.0.0,>=2.13.0 in c:\\ssafy\\python\\comprehensive emotion ai\\.venv\\lib\\site-packages (from rich->keras>=3.5.0->tensorflow-intel==2.18.0->tensorflow<2.19,>=2.18->tf-keras) (2.19.1)\n",
      "Requirement already satisfied: mdurl~=0.1 in c:\\ssafy\\python\\comprehensive emotion ai\\.venv\\lib\\site-packages (from markdown-it-py>=2.2.0->rich->keras>=3.5.0->tensorflow-intel==2.18.0->tensorflow<2.19,>=2.18->tf-keras) (0.1.2)\n",
      "Downloading tf_keras-2.18.0-py3-none-any.whl (1.7 MB)\n",
      "   ---------------------------------------- 0.0/1.7 MB ? eta -:--:--\n",
      "   ---------------------------------------- 1.7/1.7 MB 10.5 MB/s eta 0:00:00\n",
      "Installing collected packages: tf-keras\n",
      "Successfully installed tf-keras-2.18.0\n"
     ]
    }
   ],
   "execution_count": 3
  },
  {
   "metadata": {
    "ExecuteTime": {
     "end_time": "2025-01-22T06:42:11.692539Z",
     "start_time": "2025-01-22T06:41:50.076219Z"
    }
   },
   "cell_type": "code",
   "source": [
    "import cv2\n",
    "from deepface import DeepFace\n",
    "\n",
    "# 웹캠 열기\n",
    "cap = cv2.VideoCapture(0)\n",
    "\n",
    "while True:\n",
    "    ret, frame = cap.read()\n",
    "    if not ret:\n",
    "        break\n",
    "\n",
    "    # DeepFace를 이용해 얼굴 영역을 감정 분석\n",
    "    # enforce_detection=False로 하면 얼굴 감지 안 되어도 에러가 나지 않게 함 (얼굴 없으면 분석 불가)\n",
    "    try:\n",
    "        result = DeepFace.analyze(\n",
    "            img_path = frame,\n",
    "            actions = ['emotion'],  # 감정 분석만 수행\n",
    "            enforce_detection=False\n",
    "        )\n",
    "\n",
    "        # 추론된 감정 결과(딕셔너리 형태)\n",
    "        # 예) {'emotion': {'angry': 0.0, 'disgust': 0.0, 'fear': 12.31, 'happy': 76.92, ...}, 'dominant_emotion': 'happy'}\n",
    "        if 'emotion' in result:\n",
    "            emotions = result['emotion']\n",
    "\n",
    "            # 콘솔 출력\n",
    "            print(emotions)\n",
    "\n",
    "            # 화면에 표시할 문자열 만들기\n",
    "            text = \"\"\n",
    "            for (emo, score) in emotions.items():\n",
    "                text += f\"{emo}: {score:.1f}%  \"\n",
    "\n",
    "            # 감정 정보 프레임 상단에 표시\n",
    "            cv2.putText(frame, text, (10, 30), cv2.FONT_HERSHEY_SIMPLEX, 0.7, (255,255,255), 2)\n",
    "    except Exception as e:\n",
    "        pass\n",
    "\n",
    "    cv2.imshow(\"Emotion Analysis\", frame)\n",
    "\n",
    "    if cv2.waitKey(1) & 0xFF == ord('q'):\n",
    "        break\n",
    "\n",
    "cap.release()\n",
    "cv2.destroyAllWindows()\n"
   ],
   "id": "ca74af0ebae8b1e8",
   "outputs": [],
   "execution_count": 4
  },
  {
   "metadata": {
    "ExecuteTime": {
     "end_time": "2025-01-22T06:41:23.692994Z",
     "start_time": "2025-01-22T06:40:40.042244Z"
    }
   },
   "cell_type": "code",
   "source": [
    "import cv2\n",
    "from deepface import DeepFace\n",
    "\n",
    "# 분석할 감정 리스트 (원하는 감정만 지정)\n",
    "target_emotions = ['angry', 'fear', 'happy', 'sad', 'surprise']\n",
    "\n",
    "cap = cv2.VideoCapture(0)\n",
    "\n",
    "while True:\n",
    "    ret, frame = cap.read()\n",
    "    if not ret:\n",
    "        break\n",
    "\n",
    "    try:\n",
    "        # DeepFace 감정 분석\n",
    "        result = DeepFace.analyze(\n",
    "            img_path=frame,\n",
    "            actions=['emotion'],\n",
    "            enforce_detection=False\n",
    "        )\n",
    "\n",
    "        if 'emotion' in result:\n",
    "            emotions = result['emotion']  # {'angry':..., 'disgust':..., 'fear':..., ...}\n",
    "\n",
    "            # 우리가 원하는 5가지 감정만 꺼내기\n",
    "            # 만약 해당 감정이 result에 없으면 0으로 처리\n",
    "            extracted = {emo: emotions.get(emo, 0) for emo in target_emotions}\n",
    "\n",
    "            # (1) 콘솔에 로그 출력\n",
    "            # 예: angry: 0.01%  fear: 0.00%  happy: 98.34%  sad: 0.65%  surprise: 0.00%\n",
    "            log_text = \"  \".join([f\"{emo}: {score:.2f}%\" for emo, score in extracted.items()])\n",
    "            print(log_text)\n",
    "\n",
    "            # (2) 영상 위에 표시\n",
    "            cv2.putText(\n",
    "                frame,\n",
    "                log_text,\n",
    "                (10, 30),\n",
    "                cv2.FONT_HERSHEY_SIMPLEX,\n",
    "                0.7,\n",
    "                (255, 255, 255),\n",
    "                2\n",
    "            )\n",
    "    except Exception as e:\n",
    "        pass\n",
    "\n",
    "    cv2.imshow(\"Emotion Analysis\", frame)\n",
    "\n",
    "    if cv2.waitKey(1) & 0xFF == ord('q'):\n",
    "        break\n",
    "\n",
    "cap.release()\n",
    "cv2.destroyAllWindows()\n"
   ],
   "id": "e34d195049d69ebb",
   "outputs": [],
   "execution_count": 3
  },
  {
   "metadata": {
    "ExecuteTime": {
     "end_time": "2025-01-22T07:22:05.730741Z",
     "start_time": "2025-01-22T07:21:59.974779Z"
    }
   },
   "cell_type": "code",
   "source": [
    "from deepface import DeepFace\n",
    "\n",
    "result = DeepFace.analyze(\n",
    "    img_path=\"image2.jpg\",\n",
    "    actions=['emotion'],\n",
    "    enforce_detection=False\n",
    ")\n",
    "print(result)\n"
   ],
   "id": "ded3fa54fae870bd",
   "outputs": [
    {
     "name": "stdout",
     "output_type": "stream",
     "text": [
      "WARNING:tensorflow:From C:\\SSAFY\\python\\Comprehensive Emotion AI\\.venv\\Lib\\site-packages\\tf_keras\\src\\losses.py:2976: The name tf.losses.sparse_softmax_cross_entropy is deprecated. Please use tf.compat.v1.losses.sparse_softmax_cross_entropy instead.\n",
      "\n",
      "[{'emotion': {'angry': np.float32(0.53897715), 'disgust': np.float32(0.0007746541), 'fear': np.float32(0.23431703), 'happy': np.float32(0.023844363), 'sad': np.float32(18.456196), 'surprise': np.float32(4.8291695e-05), 'neutral': np.float32(80.74584)}, 'dominant_emotion': 'neutral', 'region': {'x': 0, 'y': 0, 'w': 1266, 'h': 943, 'left_eye': None, 'right_eye': None}, 'face_confidence': 0}]\n"
     ]
    }
   ],
   "execution_count": 1
  },
  {
   "metadata": {},
   "cell_type": "code",
   "outputs": [],
   "execution_count": null,
   "source": "",
   "id": "2e2cf40818977ea9"
  }
 ],
 "metadata": {
  "kernelspec": {
   "display_name": "Python 3",
   "language": "python",
   "name": "python3"
  },
  "language_info": {
   "codemirror_mode": {
    "name": "ipython",
    "version": 2
   },
   "file_extension": ".py",
   "mimetype": "text/x-python",
   "name": "python",
   "nbconvert_exporter": "python",
   "pygments_lexer": "ipython2",
   "version": "2.7.6"
  }
 },
 "nbformat": 4,
 "nbformat_minor": 5
}
